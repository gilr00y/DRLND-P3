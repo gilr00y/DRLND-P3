{
 "cells": [
  {
   "cell_type": "code",
   "execution_count": 1,
   "metadata": {},
   "outputs": [],
   "source": [
    "## import os\n",
    "\n",
    "from unityagents import UnityEnvironment\n",
    "import numpy as np\n",
    "import torch\n",
    "import torch.nn as nn\n",
    "import torch.nn.functional as f\n",
    "import torch.nn.functional as F\n",
    "import torch.distributed as dist\n",
    "from torch import optim\n",
    "from torch.autograd import Variable\n",
    "from collections import deque\n",
    "import random\n",
    "import copy\n",
    "import os"
   ]
  },
  {
   "cell_type": "code",
   "execution_count": 2,
   "metadata": {},
   "outputs": [
    {
     "name": "stderr",
     "output_type": "stream",
     "text": [
      "INFO:unityagents:\n",
      "'Academy' started successfully!\n",
      "Unity Academy name: Academy\n",
      "        Number of Brains: 1\n",
      "        Number of External Brains : 1\n",
      "        Lesson number : 0\n",
      "        Reset Parameters :\n",
      "\t\t\n",
      "Unity brain name: TennisBrain\n",
      "        Number of Visual Observations (per agent): 0\n",
      "        Vector Observation space type: continuous\n",
      "        Vector Observation space size (per agent): 8\n",
      "        Number of stacked Vector Observation: 3\n",
      "        Vector Action space type: continuous\n",
      "        Vector Action space size (per agent): 2\n",
      "        Vector Action descriptions: , \n"
     ]
    }
   ],
   "source": [
    "# env.close()\n",
    "env = UnityEnvironment(file_name=\"Tennis.app\", no_graphics=False, seed=1)\n",
    "# env = UnityEnvironment(file_name=\"Tennis_Linux/Tennis.x86_64\", no_graphics=True)"
   ]
  },
  {
   "cell_type": "code",
   "execution_count": 3,
   "metadata": {},
   "outputs": [],
   "source": [
    "# get the default brain\n",
    "brain_name = env.brain_names[0]\n",
    "brain = env.brains[brain_name]\n",
    "device = torch.device(\"cuda:0\" if torch.cuda.is_available() else \"cpu\")"
   ]
  },
  {
   "cell_type": "code",
   "execution_count": 4,
   "metadata": {},
   "outputs": [
    {
     "name": "stdout",
     "output_type": "stream",
     "text": [
      "Number of agents: 2\n",
      "Size of each action: 2\n",
      "There are 2 agents. Each observes a state with length: 24\n",
      "The state for the first agent looks like: [ 0.          0.          0.          0.          0.          0.\n",
      "  0.          0.          0.          0.          0.          0.\n",
      "  0.          0.          0.          0.         -6.63803244 -1.5\n",
      " -0.          0.          6.00063038  6.         -0.          0.        ]\n"
     ]
    }
   ],
   "source": [
    "# reset the environment\n",
    "env_info = env.reset(train_mode=True)[brain_name]\n",
    "\n",
    "# number of agents \n",
    "num_agents = len(env_info.agents)\n",
    "print('Number of agents:', num_agents)\n",
    "\n",
    "# size of each action\n",
    "action_size = brain.vector_action_space_size # 2\n",
    "print('Size of each action:', action_size)\n",
    "\n",
    "# examine the state space \n",
    "states = env_info.vector_observations\n",
    "state_size = states.shape[1] # 24\n",
    "print('There are {} agents. Each observes a state with length: {}'.format(states.shape[0], state_size))\n",
    "print('The state for the first agent looks like:', states[0])"
   ]
  },
  {
   "cell_type": "code",
   "execution_count": 5,
   "metadata": {
    "code_folding": []
   },
   "outputs": [],
   "source": [
    "from collections import namedtuple\n",
    "# class ReplayBuffer:\n",
    "#     def __init__(self, action_size, buffer_size, batch_size, seed):\n",
    "#         self.action_size = action_size\n",
    "#         self.memory = deque(maxlen=buffer_size)  # internal memory (deque)\n",
    "#         self.batch_size = batch_size\n",
    "#         self.experience = namedtuple(\"Experience\", field_names=[\"state\", \"action\", \"reward\", \"next_state\", \"done\"])\n",
    "# #         self.seed = random.seed(seed)\n",
    "    \n",
    "#     def add(self, state, action, reward, next_state, done):\n",
    "#         e = self.experience(state, action, reward, next_state, done)\n",
    "#         self.memory.append(e)\n",
    "    \n",
    "#     def sample(self):\n",
    "#         \"\"\"Randomly sample a batch of experiences from memory.\"\"\"\n",
    "#         experiences = random.sample(self.memory, k=self.batch_size)\n",
    "\n",
    "#         states = torch.from_numpy(np.vstack([e.state for e in experiences if e is not None])).float()\n",
    "#         actions = torch.from_numpy(np.vstack([e.action for e in experiences if e is not None])).float()\n",
    "#         rewards = torch.from_numpy(np.vstack([e.reward for e in experiences if e is not None])).float()\n",
    "#         next_states = torch.from_numpy(np.vstack([e.next_state for e in experiences if e is not None])).float()\n",
    "#         dones = torch.from_numpy(np.vstack([e.done for e in experiences if e is not None]).astype(np.uint8)).float()\n",
    "\n",
    "#         return (states, actions, rewards, next_states, dones)\n",
    "\n",
    "#     def __len__(self):\n",
    "#         \"\"\"Return the current size of internal memory.\"\"\"\n",
    "#         return len(self.memory)\n",
    "class ReplayBuffer:\n",
    "    \"\"\"Fixed-size buffer to store experience tuples.\"\"\"\n",
    "\n",
    "    def __init__(self, action_size, buffer_size, batch_size, seed):\n",
    "        \"\"\"Initialize a ReplayBuffer object.\n",
    "        Params\n",
    "        ======\n",
    "            buffer_size (int): maximum size of buffer\n",
    "            batch_size (int): size of each training batch\n",
    "        \"\"\"\n",
    "        self.action_size = action_size\n",
    "        self.memory = deque(maxlen=buffer_size)  # internal memory (deque)\n",
    "        self.batch_size = batch_size\n",
    "        self.experience = namedtuple(\"Experience\", field_names=[\"state\", \"action\", \"reward\", \"next_state\", \"done\"])\n",
    "        self.seed = random.seed(seed)\n",
    "    \n",
    "    def add(self, state, action, reward, next_state, done):\n",
    "        \"\"\"Add a new experience to memory.\"\"\"\n",
    "        e = self.experience(state, action, reward, next_state, done)\n",
    "        self.memory.append(e)\n",
    "    \n",
    "    def sample(self):\n",
    "        \"\"\"Randomly sample a batch of experiences from memory.\"\"\"\n",
    "        experiences = random.sample(self.memory, k=self.batch_size)\n",
    "\n",
    "        states = torch.from_numpy(np.vstack([e.state for e in experiences if e is not None])).float().to(device)\n",
    "        actions = torch.from_numpy(np.vstack([e.action for e in experiences if e is not None])).float().to(device)\n",
    "        rewards = torch.from_numpy(np.vstack([e.reward for e in experiences if e is not None])).float().to(device)\n",
    "        next_states = torch.from_numpy(np.vstack([e.next_state for e in experiences if e is not None])).float().to(device)\n",
    "        dones = torch.from_numpy(np.vstack([e.done for e in experiences if e is not None]).astype(np.uint8)).float().to(device)\n",
    "\n",
    "        return (states, actions, rewards, next_states, dones)\n",
    "\n",
    "    def __len__(self):\n",
    "        \"\"\"Return the current size of internal memory.\"\"\"\n",
    "        return len(self.memory)"
   ]
  },
  {
   "cell_type": "code",
   "execution_count": 6,
   "metadata": {
    "code_folding": [
     11,
     34
    ]
   },
   "outputs": [],
   "source": [
    "dim_actor_in = state_size\n",
    "dim_actor_h1 = 256\n",
    "dim_actor_h2 = 128\n",
    "dim_actor_out = action_size\n",
    "\n",
    "action_dim = action_size * num_agents\n",
    "dim_critic_in = num_agents * state_size\n",
    "dim_critic_h1 = 256\n",
    "dim_critic_h2 = 128\n",
    "dim_critic_out = 1\n",
    "\n",
    "class OUNoise:\n",
    "    \"\"\"Ornstein-Uhlenbeck process.\"\"\"\n",
    "\n",
    "    def __init__(self, size, seed, mu=0., theta=0.15, sigma=0.2):\n",
    "        \"\"\"Initialize parameters and noise process.\"\"\"\n",
    "        self.mu = mu * np.ones(size)\n",
    "        self.size = size\n",
    "        self.theta = theta\n",
    "        self.sigma = sigma\n",
    "        self.seed = random.seed(seed)\n",
    "        self.reset()\n",
    "\n",
    "    def reset(self):\n",
    "        \"\"\"Reset the internal state (= noise) to mean (mu).\"\"\"\n",
    "        self.state = copy.copy(self.mu)\n",
    "\n",
    "    def sample(self):\n",
    "        \"\"\"Update internal state and return it as a noise sample.\"\"\"\n",
    "        x = self.state\n",
    "        dx = self.theta * (self.mu - x) + self.sigma * np.random.standard_normal(self.size)\n",
    "        self.state = x + dx\n",
    "        return self.state\n",
    "\n",
    "def hidden_init(layer):\n",
    "    fan_in = layer.weight.data.size()[0]\n",
    "    lim = 1. / np.sqrt(fan_in)\n",
    "    return (-lim, lim)\n",
    "\n",
    "class Actor(nn.Module):\n",
    "    def __init__(self):\n",
    "        super(Actor, self).__init__()\n",
    "        self.fc1 = nn.Linear(dim_actor_in, dim_actor_h1)\n",
    "        self.bn1 = nn.BatchNorm1d(dim_actor_h1)\n",
    "        self.fc2 = nn.Linear(dim_actor_h1, dim_actor_h2)\n",
    "        self.bn2 = nn.BatchNorm1d(dim_actor_h2)\n",
    "        self.fc3 = nn.Linear(dim_actor_h2, dim_actor_out)\n",
    "        self.reset_parameters()\n",
    "        \n",
    "    def reset_parameters(self):\n",
    "        self.fc1.weight.data.uniform_(*hidden_init(self.fc1))\n",
    "        self.fc2.weight.data.uniform_(*hidden_init(self.fc2))\n",
    "        self.fc3.weight.data.uniform_(-3e-3, 3e-3)\n",
    "        \n",
    "    def forward(self, state):\n",
    "        h1 = f.relu(\n",
    "                self.fc1(state))\n",
    "        h2 = f.relu(\n",
    "                self.fc2(h1))\n",
    "        out = self.fc3(h2)\n",
    "        return torch.tanh(out)\n",
    "    \n",
    "class Critic(nn.Module):\n",
    "    def __init__(self):\n",
    "        super(Critic, self).__init__()\n",
    "        self.fc1 = nn.Linear(dim_critic_in, dim_critic_h1)\n",
    "        self.bn1 = nn.BatchNorm1d(dim_critic_h1)\n",
    "        self.fc2 = nn.Linear(dim_critic_h1+action_dim, dim_critic_h2)\n",
    "        self.bn2 = nn.BatchNorm1d(dim_critic_h2)\n",
    "        self.fc3 = nn.Linear(dim_critic_h2, dim_critic_out)\n",
    "        self.reset_parameters()\n",
    "        \n",
    "    def reset_parameters(self):\n",
    "        self.fc1.weight.data.uniform_(*hidden_init(self.fc1))\n",
    "        self.fc2.weight.data.uniform_(*hidden_init(self.fc2))\n",
    "        self.fc3.weight.data.uniform_(-3e-3, 3e-3)\n",
    "        \n",
    "    def forward(self, state, action):\n",
    "        h1 = f.relu(\n",
    "                self.fc1(state))\n",
    "        hi = torch.cat((h1, \n",
    "                        action), dim=1)\n",
    "        h2 = f.relu(self.fc2(hi))\n",
    "        out = self.fc3(h2)\n",
    "        return out"
   ]
  },
  {
   "cell_type": "code",
   "execution_count": 7,
   "metadata": {
    "code_folding": []
   },
   "outputs": [],
   "source": [
    "class Agent:\n",
    "    def __init__(self, a_id):\n",
    "        self.a_id = a_id\n",
    "        self.actor_local = Actor()\n",
    "        self.actor_target = Actor()\n",
    "        self.actor_optimizer = optim.Adam(self.actor_local.parameters(), lr=lr_actor)\n",
    "        \n",
    "        self.critic_local = Critic()\n",
    "        self.critic_target = Critic()\n",
    "        self.critic_optimizer = optim.Adam(self.critic_local.parameters(), lr=lr_critic)\n",
    "        \n",
    "        self.tau = tau\n",
    "        self.replay_buffer = ReplayBuffer(action_size, buffer_size=buffer_size, batch_size=batch_size, seed=random.random())\n",
    "        self.noise = OUNoise(action_size, random.random())\n",
    "        \n",
    "    def reset(self):\n",
    "        self.noise.reset()\n",
    "        \n",
    "    def act(self, state, ep_num):\n",
    "        if self.a_id == 0:\n",
    "            state = state[:, :state_size]\n",
    "        else:\n",
    "            state = state[:, state_size:]\n",
    "        state = torch.from_numpy(state).float()\n",
    "        self.actor_local.eval()\n",
    "        with torch.no_grad():\n",
    "            action = self.actor_local(state).data.numpy()\n",
    "        self.actor_local.train()\n",
    "        # Apply noise every other episode\n",
    "        if ep_num < 200 or ep_num % 2 == 0:\n",
    "            action += (1 - min(ep_num/600., 1)) * self.noise.sample()\n",
    "        np.clip(action, -1, 1)\n",
    "        return action\n",
    "    def train(self):\n",
    "        if len(self.replay_buffer) >= batch_size:\n",
    "            states, actions, rewards, next_states, dones = self.replay_buffer.sample()\n",
    "            if self.a_id == 0:\n",
    "                actions_future = torch.cat(\n",
    "                    (self.actor_target(next_states[:, :state_size]), actions[:,2:]),\n",
    "                    dim=1)\n",
    "            else:\n",
    "                actions_future = torch.cat(\n",
    "                    (actions[:,:2], self.actor_target(next_states[:, state_size:])),\n",
    "                    dim=1)\n",
    "            Q_future = self.critic_target(next_states, actions_future)\n",
    "            Q_targets = rewards + (gamma * Q_future * (1-dones))\n",
    "            Q_expected = self.critic_local(states, actions)\n",
    "            critic_loss = F.mse_loss(Q_expected, Q_targets)\n",
    "            self.critic_optimizer.zero_grad()\n",
    "            critic_loss.backward()\n",
    "            self.critic_optimizer.step()\n",
    "            if self.a_id == 0:\n",
    "                actions_pred = torch.cat(\n",
    "                    (self.actor_local(states[:,:state_size]), actions[:,2:]),\n",
    "                    dim=1)\n",
    "            else:\n",
    "                actions_pred = torch.cat(\n",
    "                    (actions[:,:2], self.actor_local(states[:,state_size:])),\n",
    "                    dim=1)\n",
    "            actor_loss = -self.critic_local(states, actions_pred).mean()\n",
    "            self.actor_optimizer.zero_grad()\n",
    "            actor_loss.backward()\n",
    "            self.actor_optimizer.step()\n",
    "            self.soft_update()\n",
    "\n",
    "        \n",
    "    def _update_actor(self):\n",
    "        for target_param, local_param in zip(self.actor_target.parameters(), self.actor_local.parameters()):\n",
    "            target_param.data.copy_(tau*local_param.data + (1.0-tau)*target_param.data)\n",
    "        \n",
    "    def _update_critic(self):\n",
    "        for target_param, local_param in zip(self.critic_target.parameters(), self.critic_local.parameters()):\n",
    "            target_param.data.copy_(tau*local_param.data + (1.0-tau)*target_param.data)\n",
    "\n",
    "    def soft_update(self):\n",
    "        self._update_critic()\n",
    "        self._update_actor()\n",
    "\n"
   ]
  },
  {
   "cell_type": "code",
   "execution_count": 8,
   "metadata": {},
   "outputs": [],
   "source": [
    "num_episodes = 1200\n",
    "buffer_size = int(1e6)\n",
    "batch_size = 256\n",
    "num_agents = 2\n",
    "gamma = 0.999\n",
    "\n",
    "tau = 7e-3\n",
    "lr_actor = 1e-3\n",
    "lr_critic = 1e-3\n",
    "train_every=1\n",
    "\n",
    "# seed = 2"
   ]
  },
  {
   "cell_type": "code",
   "execution_count": 9,
   "metadata": {
    "code_folding": []
   },
   "outputs": [
    {
     "name": "stdout",
     "output_type": "stream",
     "text": [
      "EPISODE=500:14\tSCORE=0.000\tAVG=0.000\tMAX_SCORE=0.100\tMAX_AVG=0.001EPOCH 0 failed\n",
      "+++++++++++++\n",
      "EPISODE=1050:32\tSCORE=0.100\tAVG=0.428\tMAX_SCORE=2.600\tMAX_AVG=0.4330SOLVED IN 1059 EPISODES\n"
     ]
    }
   ],
   "source": [
    "# # Collection of agents\n",
    "epoch = 0\n",
    "solved = False\n",
    "for epc in range(5000):\n",
    "    if solved:\n",
    "        break\n",
    "    scores = np.array([]) \n",
    "    max_score = 0\n",
    "    max_avg = 0\n",
    "    agent0=Agent(a_id=0)\n",
    "    agent1 = Agent(a_id=1)\n",
    "    for ep_num in range(num_episodes):\n",
    "        agent0.reset()\n",
    "        agent1.reset()\n",
    "        ep_scores = np.zeros(num_agents)\n",
    "        env_info = env.reset(train_mode=True)[brain_name]\n",
    "        states = env_info.vector_observations\n",
    "        states = np.reshape(states, (1,48))\n",
    "        t=0\n",
    "        while True:\n",
    "            t+=1 \n",
    "            action0 = agent0.act(states, ep_num)\n",
    "            action1 = agent1.act(states, ep_num)\n",
    "            actions = np.concatenate((action0, action1), axis=0)\n",
    "            actions = np.reshape(actions, (1,4))\n",
    "            env_info = env.step(actions)[brain_name]\n",
    "            next_states = env_info.vector_observations\n",
    "            next_states = np.reshape(next_states, (1, 48))\n",
    "            rewards = env_info.rewards\n",
    "            dones = env_info.local_done\n",
    "            agent0.replay_buffer.add(states, actions, rewards[0], next_states, dones[0])\n",
    "            agent1.replay_buffer.add(states, actions, rewards[1], next_states, dones[1])\n",
    "            agent0.train()\n",
    "            agent1.train()\n",
    "\n",
    "            # Environment Rules take the max of the agents as the \"episode score\"\n",
    "            ep_scores += rewards\n",
    "            states = next_states\n",
    "            if sum(dones) > 0:\n",
    "                break\n",
    "        ep_score = np.max(ep_scores)\n",
    "        max_score = max(max_score, ep_score)\n",
    "        scores = np.append(scores, ep_score)\n",
    "        avg_score = np.mean(scores[-100:])\n",
    "        if ep_num > 100:\n",
    "            max_avg = max(max_avg, avg_score)\n",
    "        if avg_score > 0.5:\n",
    "            solved = True\n",
    "            print(\"SOLVED IN {} EPISODES\".format(ep_num))\n",
    "            torch.save(agent0.actor_local.state_dict(), 'checkpoint_actor0_final.pth')\n",
    "            torch.save(agent0.critic_local.state_dict(), 'checkpoint_critic0_final.pth')\n",
    "            torch.save(agent1.actor_local.state_dict(), 'checkpoint_actor1_final.pth')\n",
    "            torch.save(agent1.critic_local.state_dict(), 'checkpoint_critic1_final.pth')\n",
    "            break\n",
    "        os.write(1, \"\\rEPISODE={}\\tSCORE={:.3f}\\tAVG={:.3f}\\tMAX_SCORE={:.3f}\\tMAX_AVG={:.3f}\".format(\n",
    "            ep_num, ep_score, avg_score, max_score, max_avg).encode())\n",
    "        if ep_num % 10 == 0:\n",
    "            print(\"\\rEPISODE={}:{}\\tSCORE={:.3f}\\tAVG={:.3f}\\tMAX_SCORE={:.3f}\\tMAX_AVG={:.3f}\".format(\n",
    "                ep_num,t, ep_score, avg_score, max_score, max_avg), end=\"\")\n",
    "        if ep_num > 500 and avg_score < 0.03:\n",
    "            print(\"EPOCH {} failed\".format(epc))\n",
    "            print(\"+++++++++++++\")\n",
    "            break\n"
   ]
  },
  {
   "cell_type": "code",
   "execution_count": 10,
   "metadata": {},
   "outputs": [
    {
     "name": "stderr",
     "output_type": "stream",
     "text": [
      "/usr/local/Cellar/python/3.6.4_4/Frameworks/Python.framework/Versions/3.6/lib/python3.6/importlib/_bootstrap.py:219: RuntimeWarning: numpy.dtype size changed, may indicate binary incompatibility. Expected 96, got 88\n",
      "  return f(*args, **kwds)\n"
     ]
    },
    {
     "data": {
      "text/plain": [
       "<matplotlib.axes._subplots.AxesSubplot at 0x11a3ec5c0>"
      ]
     },
     "execution_count": 10,
     "metadata": {},
     "output_type": "execute_result"
    },
    {
     "data": {
      "image/png": "[encoded data removed]",
      "text/plain": [
       "<matplotlib.figure.Figure at 0x108dd5630>"
      ]
     },
     "metadata": {},
     "output_type": "display_data"
    }
   ],
   "source": [
    "import pandas as pd\n",
    "import matplotlib.pyplot as plt\n",
    "%matplotlib inline\n",
    "p_scores = [(i, score) for i, score in enumerate(scores)]\n",
    "scores_df = pd.DataFrame.from_records(data=p_scores, columns=['episode', 'scores'], index='episode')\n",
    "scores_df['avg'] = scores_df.rolling(window=100).mean()\n",
    "\n",
    "scores_df.plot()"
   ]
  },
  {
   "cell_type": "code",
   "execution_count": 11,
   "metadata": {},
   "outputs": [
    {
     "data": {
      "text/plain": [
       "<matplotlib.axes._subplots.AxesSubplot at 0x11c58e2b0>"
      ]
     },
     "execution_count": 11,
     "metadata": {},
     "output_type": "execute_result"
    },
    {
     "data": {
      "image/png": "[encoded data removed]",
      "text/plain": [
       "<matplotlib.figure.Figure at 0x11a3ecc18>"
      ]
     },
     "metadata": {},
     "output_type": "display_data"
    }
   ],
   "source": [
    "p_scores = [(i, score) for i, score in enumerate(scores[-200:])]\n",
    "scores_df = pd.DataFrame.from_records(data=p_scores, columns=['episode', 'scores'], index='episode')\n",
    "scores_df['avg'] = scores_df.rolling(window=100).mean()\n",
    "\n",
    "scores_df.plot()"
   ]
  },
  {
   "cell_type": "code",
   "execution_count": 12,
   "metadata": {},
   "outputs": [],
   "source": [
    "agent0 = Agent(a_id=0)\n",
    "agent1 = Agent(a_id=1)\n",
    "agent0.actor_local.load_state_dict(torch.load('checkpoint_actor0_final.pth', map_location='cpu'))\n",
    "agent0.critic_local.load_state_dict(torch.load('checkpoint_critic0_final.pth', map_location='cpu'))\n",
    "agent1.actor_local.load_state_dict(torch.load('checkpoint_actor1_final.pth', map_location='cpu'))\n",
    "agent1.critic_local.load_state_dict(torch.load('checkpoint_critic1_final.pth', map_location='cpu'))\n",
    "\n",
    "# Set environment to evalulation mode\n",
    "env_info = env.reset(train_mode=False)[brain_name]        \n",
    "states = env_info.vector_observations                  \n",
    "states = np.reshape(states, (1,48))\n",
    "\n",
    "for i in range(20000):\n",
    "    action_0 = agent0.act(states, ep_num=i)         \n",
    "    action_1 = agent1.act(states, ep_num=i)        \n",
    "    actions = np.concatenate((action_0, action_1), axis=0) \n",
    "    actions = np.reshape(actions, (1, 4))\n",
    "    env_info = env.step(actions)[brain_name]        \n",
    "    next_states = env_info.vector_observations        \n",
    "    next_states = np.reshape(next_states, (1, 48))\n",
    "    rewards = env_info.rewards                        \n",
    "    dones = env_info.local_done                 \n",
    "    states = next_states                              \n",
    "    if np.any(dones):                              \n",
    "        break"
   ]
  },
  {
   "cell_type": "code",
   "execution_count": null,
   "metadata": {},
   "outputs": [],
   "source": []
  }
 ],
 "metadata": {
  "kernelspec": {
   "display_name": "Python 3",
   "language": "python",
   "name": "python3"
  },
  "language_info": {
   "codemirror_mode": {
    "name": "ipython",
    "version": 3
   },
   "file_extension": ".py",
   "mimetype": "text/x-python",
   "name": "python",
   "nbconvert_exporter": "python",
   "pygments_lexer": "ipython3",
   "version": "3.6.4"
  }
 },
 "nbformat": 4,
 "nbformat_minor": 2
}
